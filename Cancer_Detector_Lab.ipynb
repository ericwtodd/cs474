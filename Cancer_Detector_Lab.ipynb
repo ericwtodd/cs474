{
 "cells": [
  {
   "cell_type": "markdown",
   "metadata": {
    "colab_type": "text",
    "id": "MtSxAF_4OFXV"
   },
   "source": [
    "<a href=\"https://colab.research.google.com/github/wingated/cs474_labs_f2019/blob/master/DL_Lab4.ipynb\" target=\"_parent\"><img src=\"https://colab.research.google.com/assets/colab-badge.svg\" alt=\"Open In Colab\"/></a>"
   ]
  },
  {
   "cell_type": "markdown",
   "metadata": {
    "colab_type": "text",
    "id": "view-in-github"
   },
   "source": [
    "# Lab 4: Cancer Detection\n",
    "\n",
    "## Objective\n",
    "* To build a dense prediction model\n",
    "* To begin reading current papers in DNN research\n",
    "\n",
    "## Deliverable\n",
    "For this lab, you will turn in a notebook that describes your efforts at creating\n",
    "a pytorch radiologist. Your final deliverable is a notebook that has (1) deep network,\n",
    "(2) cost function, (3) method of calculating accuracy,\n",
    "(4) an image that shows the dense prediction produced by your network on the pos_test_000072.png image.\n",
    "This is an image in the test set that your network will not have seen before.\n",
    "This image, and the ground truth labeling, is shown below.\n",
    "(And is contained in the downloadable dataset below).\n",
    "\n",
    "![](http://liftothers.org/dokuwiki/lib/exe/fetch.php?w=200&tok=a8ac31&media=cs501r_f2016:pos_test_000072_output.png)\n",
    "<img src=\"http://liftothers.org/dokuwiki/lib/exe/fetch.php?media=cs501r_f2016:pos_test_000072.png\" width=\"200\">\n",
    "\n",
    "\n",
    "## Grading standards\n",
    "Your notebook will be graded on the following:\n",
    "* 40% Proper design, creation and debugging of a dense prediction network\n",
    "* 40% Proper implementation of a loss function and train/test set accuracy measure\n",
    "* 10% Tidy visualizations of loss of your dense predictor during training\n",
    "* 10% Test image output\n",
    "\n",
    "\n",
    "## Data set\n",
    "The data is given as a set of 1024×1024 PNG images. Each input image (in \n",
    "the ```inputs``` directory) is an RGB image of a section of tissue,\n",
    "and there a file with the same name (in the ```outputs``` directory) \n",
    "that has a dense labeling of whether or not a section of tissue is cancerous\n",
    "(white pixels mean “cancerous”, while black pixels mean “not cancerous”).\n",
    "\n",
    "The data has been pre-split for you into test and training splits.\n",
    "Filenames also reflect whether or not the image has any cancer at all \n",
    "(files starting with ```pos_``` have some cancerous pixels, while files \n",
    "starting with ```neg_``` have no cancer anywhere).\n",
    "All of the data is hand-labeled, so the dataset is not very large.\n",
    "That means that overfitting is a real possibility.\n",
    "\n",
    "## Description\n",
    "For a video including some tips and tricks that can help with this lab: [https://youtu.be/Ms19kgK_D8w](https://youtu.be/Ms19kgK_D8w)\n",
    "For this lab, you will implement a virtual radiologist.\n",
    "You are given images of possibly cancerous tissue samples, \n",
    "and you must build a detector that identifies where in the tissue cancer may reside.\n",
    "\n",
    "---\n",
    "\n",
    "### Part 0\n",
    "Watch and follow video tutorial:\n",
    "\n",
    "https://youtu.be/Ms19kgK_D8w\n",
    "\n",
    "**TODO:**\n",
    "\n",
    "**DONE:**\n",
    "* Watch tutorial\n",
    "\n",
    "### Part 1\n",
    "Implement a dense predictor\n",
    "\n",
    "In previous labs and lectures, we have talked about DNNs that classify an \n",
    "entire image as a single class. Here, however, we are interested in a more nuanced classification: \n",
    "given an input image, we would like to identify each pixel that is possibly cancerous. \n",
    "That means that instead of a single output, your network should output an “image”, \n",
    "where each output pixel of your network represents the probability that a pixel is cancerous.\n",
    "\n",
    "**TODO:**\n",
    "\n",
    "**DONE:**\n",
    "* Create a Network that classifies each pixel as a 1 or 0 for cancerous / not cancerous\n",
    "\n",
    "___\n",
    "\n",
    "### Part 1a\n",
    "Implement your network topology\n",
    "\n",
    "\n",
    "Use the “Deep Convolution U-Net” from this paper: [(U-Net: Convolutional Networks for Biomedical Image Segmentation)](https://arxiv.org/pdf/1505.04597.pdf) \n",
    "\n",
    "![(Figure 1)](https://lh3.googleusercontent.com/qnHiB3B2KRxC3NjiSDtY08_DgDGTDsHcO6PP53oNRuct-p2QXCR-gyLkDveO850F2tTAhIOPC5Ha06NP9xq1JPsVAHlQ5UXA5V-9zkUrJHGhP_MNHFoRGnjBz1vn1p8P2rMWhlAb6HQ=w2400)\n",
    "\n",
    "You should use existing pytorch functions (not your own Conv2D module), such as ```nn.Conv2d```;\n",
    "you will also need the pytorch function ```torch.cat``` and ```nn.ConvTranspose2d```\n",
    "\n",
    "```torch.cat``` allows you to concatenate tensors.\n",
    "```nn.ConvTranspose2d``` is the opposite of ```nn.Conv2d```.\n",
    "It is used to bring an image from low res to higher res.\n",
    "[This blog](https://towardsdatascience.com/up-sampling-with-transposed-convolution-9ae4f2df52d0) should help you understand this function in detail.\n",
    "\n",
    "Note that the simplest network you could implement (with all the desired properties)\n",
    "is just a single convolution layer with two filters and no relu! \n",
    "Why is that? (of course it wouldn't work very well!)\n",
    "\n",
    "**TODO:**\n",
    "\n",
    "**DONE:**\n",
    "* Answer Question / Reflect on simplest network with the desired properties\n",
    "* Understand the U-Net architecture\n",
    "* Understand concatenation of inputs from multiple prior layers\n",
    "* Understand ConvTranspose\n",
    "\n",
    "\n",
    "___\n",
    "The intention of this lab is to learn how to make deep neural nets and implement loss function.\n",
    "Therefore we'll help you with the implementation of Dataset.\n",
    "This code will download the dataset for you so that you are ready to use it and focus on network\n",
    "implementation, losses and accuracies."
   ]
  },
  {
   "cell_type": "code",
   "execution_count": 0,
   "metadata": {
    "colab": {},
    "colab_type": "code",
    "id": "rF0YvAo6FLft"
   },
   "outputs": [],
   "source": [
    "# ANSWER TO QUESTION IN PART 1a:\n",
    "# We definitely could use a 1 layer convolutional network, with 2 filters and no relu. This is because we have a binary classification problem where we are trying to learn two classes.\n",
    "# the two filters would represent what the network learns about each class from the input image and the loss with respect to the ground truth. And we don't have a relu because that would kill the gradient, \n",
    "# since there's only one activation layer."
   ]
  },
  {
   "cell_type": "code",
   "execution_count": 1,
   "metadata": {
    "colab": {
     "base_uri": "https://localhost:8080/",
     "height": 171
    },
    "colab_type": "code",
    "id": "wQOefmcZVgTl",
    "outputId": "c1b3abdd-de79-4ee1-9457-4450258a3cfa",
    "pycharm": {
     "is_executing": false
    }
   },
   "outputs": [
    {
     "name": "stdout",
     "output_type": "stream",
     "text": [
      "Requirement already satisfied: torch in /usr/local/lib/python3.6/dist-packages (1.1.0)\n",
      "Requirement already satisfied: numpy in /usr/local/lib/python3.6/dist-packages (from torch) (1.16.5)\n",
      "Requirement already satisfied: torchvision in /usr/local/lib/python3.6/dist-packages (0.3.0)\n",
      "Requirement already satisfied: pillow>=4.1.1 in /usr/local/lib/python3.6/dist-packages (from torchvision) (4.3.0)\n",
      "Requirement already satisfied: numpy in /usr/local/lib/python3.6/dist-packages (from torchvision) (1.16.5)\n",
      "Requirement already satisfied: six in /usr/local/lib/python3.6/dist-packages (from torchvision) (1.12.0)\n",
      "Requirement already satisfied: torch>=1.1.0 in /usr/local/lib/python3.6/dist-packages (from torchvision) (1.1.0)\n",
      "Requirement already satisfied: olefile in /usr/local/lib/python3.6/dist-packages (from pillow>=4.1.1->torchvision) (0.46)\n",
      "Requirement already satisfied: tqdm in /usr/local/lib/python3.6/dist-packages (4.28.1)\n"
     ]
    }
   ],
   "source": [
    "!pip3 install torch\n",
    "!pip3 install torchvision\n",
    "!pip3 install tqdm\n",
    "\n",
    "import torch\n",
    "import torch.nn as nn\n",
    "import torch.nn.functional as F\n",
    "import torch.optim as optim\n",
    "from torch.utils.data import Dataset, DataLoader\n",
    "import numpy as np\n",
    "import matplotlib.pyplot as plt\n",
    "from torchvision import transforms, utils, datasets\n",
    "from tqdm import tqdm\n",
    "from torch.nn.parameter import Parameter\n",
    "import pdb\n",
    "import torchvision\n",
    "import os\n",
    "import gzip\n",
    "import tarfile\n",
    "import gc\n",
    "from IPython.core.ultratb import AutoFormattedTB\n",
    "__ITB__ = AutoFormattedTB(mode = 'Verbose',color_scheme='LightBg', tb_offset = 1)\n",
    "\n",
    "assert torch.cuda.is_available(), \"You need to request a GPU from Runtime > Change Runtime\""
   ]
  },
  {
   "cell_type": "code",
   "execution_count": 0,
   "metadata": {
    "colab": {},
    "colab_type": "code",
    "id": "Il_53HLSWPTY"
   },
   "outputs": [],
   "source": [
    "class CancerDataset(Dataset):\n",
    "  def __init__(self, root, download=True, size=512, train=True):\n",
    "    if download and not os.path.exists(os.path.join(root, 'cancer_data')):\n",
    "      datasets.utils.download_url('http://liftothers.org/cancer_data.tar.gz', root, 'cancer_data.tar.gz', None)\n",
    "      self.extract_gzip(os.path.join(root, 'cancer_data.tar.gz'))\n",
    "      self.extract_tar(os.path.join(root, 'cancer_data.tar'))\n",
    "    \n",
    "    postfix = 'train' if train else 'test'\n",
    "    root = os.path.join(root, 'cancer_data', 'cancer_data')\n",
    "    self.dataset_folder = torchvision.datasets.ImageFolder(os.path.join(root, 'inputs_' + postfix) ,transform = transforms.Compose([transforms.Resize(size),transforms.ToTensor()]))\n",
    "    self.label_folder = torchvision.datasets.ImageFolder(os.path.join(root, 'outputs_' + postfix) ,transform = transforms.Compose([transforms.Resize(size),transforms.ToTensor()]))\n",
    "\n",
    "  @staticmethod\n",
    "  def extract_gzip(gzip_path, remove_finished=False):\n",
    "    print('Extracting {}'.format(gzip_path))\n",
    "    with open(gzip_path.replace('.gz', ''), 'wb') as out_f, gzip.GzipFile(gzip_path) as zip_f:\n",
    "      out_f.write(zip_f.read())\n",
    "    if remove_finished:\n",
    "      os.unlink(gzip_path)\n",
    "  \n",
    "  @staticmethod\n",
    "  def extract_tar(tar_path):\n",
    "    print('Untarring {}'.format(tar_path))\n",
    "    z = tarfile.TarFile(tar_path)\n",
    "    z.extractall(tar_path.replace('.tar', ''))\n",
    "\n",
    "  def __getitem__(self,index):\n",
    "    img = self.dataset_folder[index]\n",
    "    label = self.label_folder[index]\n",
    "    return img[0],label[0][0]\n",
    "  \n",
    "  def __len__(self):\n",
    "    return len(self.dataset_folder)"
   ]
  },
  {
   "cell_type": "markdown",
   "metadata": {
    "colab_type": "text",
    "id": "QY4owfQwm-Ni"
   },
   "source": [
    "___\n",
    "\n",
    "### Part 1b\n",
    "Implement a cost function\n",
    "\n",
    "You should still use cross-entropy as your cost function, but you may need to think hard about how exactly to set this up – your network should output cancer/not-cancer probabilities for each pixel, which can be viewed as a two-class classification problem.\n",
    "\n",
    "**TODO:**\n",
    "\n",
    "\n",
    "\n",
    "**DONE:**\n",
    "* Adapt CrossEntropyLoss for 2 class pixel classification (TA's said we could use nn.CrossEntropyLoss but we just need to cast our ytruth as a long, so it can internally 1-hot encode it)\n",
    "\n"
   ]
  },
  {
   "cell_type": "code",
   "execution_count": 0,
   "metadata": {
    "colab": {},
    "colab_type": "code",
    "id": "XPgrP88aOtfy"
   },
   "outputs": [],
   "source": [
    "# You'll probably want a function or something to test input / output sizes of the ConvTranspose2d layer\n",
    "\n",
    "# c = nn.ConvTranspose2d(1024, 512, kernel_size=(2,2), stride = 2, padding=(0,0))\n",
    "# print(c(torch.zeros(1,1024, 28, 28)).size())\n",
    "\n",
    "# c = nn.Conv2d(128, 128, kernel_size=(2,2), stride=2, padding=(0,0))\n",
    "# print(c(torch.zeros(1,128, 256,256)).size())"
   ]
  },
  {
   "cell_type": "code",
   "execution_count": 0,
   "metadata": {
    "colab": {},
    "colab_type": "code",
    "id": "BqnjibBx5A0i"
   },
   "outputs": [],
   "source": [
    "def compute_accuracy(guess, y_truth):\n",
    "  # This is trying to compute accuracy as intersection over union\n",
    "  # This is a better metric than the naive accuracy because it incentivizes detecting cancer \n",
    "  # when they its present vs. saying it's not there when it's not.\n",
    "  batch_size, channels, h, w = guess.size()\n",
    "  accuracies = []\n",
    "  # pdb.set_trace()\n",
    "  for i in range(batch_size):\n",
    "\n",
    "    y_hat = torch.softmax(guess[i], 0)\n",
    "    y_hat[0] = y_hat[0] > y_hat[1]\n",
    "    y_hat[1] = y_hat[1] > y_hat[0]\n",
    "    # y_hat[0] = y_hat[0] > 0.5\n",
    "    # y_hat[1] = y_hat[1] >= 0.5\n",
    "    # y_hat = torch.argmax(y_hat, 0)\n",
    "    \n",
    "    if torch.max(y_truth[i]) != 0: # image has cancerous pixels\n",
    "      intersection = torch.sum(y_hat[1] * y_truth[i])\n",
    "      union = torch.sum(y_hat[1] + y_truth[i] >= 1)\n",
    "    else: # Image doesn't have cancerous pixels\n",
    "      intersection = torch.sum(y_hat[0] * (1-y_truth[i]))\n",
    "      union = torch.sum(y_hat[0] + (1 - y_truth[i]) >= 1)\n",
    "  accuracies.append((intersection/union).item())\n",
    "\n",
    "  return np.mean(accuracies)\n",
    "  "
   ]
  },
  {
   "cell_type": "code",
   "execution_count": 0,
   "metadata": {
    "colab": {},
    "colab_type": "code",
    "id": "jq22IyKanxo_"
   },
   "outputs": [],
   "source": [
    "# Since you will be using the output of one network in two places(convolution and maxpooling),\n",
    "# you can't use nn.Sequential.\n",
    "# Instead you will write up the network like normal variable assignment as the example shown below:\n",
    "# You are welcome (and encouraged) to use the built-in batch normalization and dropout layer.\n",
    "\n",
    "class CancerDetection(nn.Module):\n",
    "  def __init__(self):\n",
    "    super(CancerDetection, self).__init__()\n",
    "    # FIRST BLOCK \n",
    "    self.convBlock1 = nn.Sequential(nn.Conv2d(3, 64,kernel_size = (3,3), stride = 1, padding = (1,1)),\n",
    "                                    nn.ReLU(),\n",
    "                                    nn.BatchNorm2d(64),\n",
    "                                    nn.Conv2d(64, 64,kernel_size = 3, stride = 1, padding = (1,1)),\n",
    "                                    nn.ReLU(),\n",
    "                                    nn.BatchNorm2d(64))\n",
    "    \n",
    "    self.maxpool2 =  nn.Conv2d(64, 64, kernel_size=(2,2), stride=2, padding=(0,0)) # HOW TO ACTUALLY IMPLEMENT MAXPOOL - #Changes dimensions from 512x512 to 256x256\n",
    "    \n",
    "    self.convBlock3 = nn.Sequential(nn.Conv2d(64, 128, kernel_size=(3,3), padding=(1,1)), \n",
    "                                    nn.ReLU(),\n",
    "                                    nn.BatchNorm2d(128),\n",
    "                                    nn.Conv2d(128, 128, kernel_size=(3,3), padding=(1,1)),\n",
    "                                    nn.ReLU(),\n",
    "                                    nn.BatchNorm2d(128))\n",
    "    \n",
    "    self.maxpool4 = nn.Conv2d(128, 128, kernel_size=(2,2), stride=2, padding=(0,0))\n",
    "\n",
    "    self.convBlock5 = nn.Sequential(nn.Conv2d(128, 256, kernel_size=(3,3), padding=(1,1)), \n",
    "                                    nn.ReLU(),\n",
    "                                    nn.BatchNorm2d(256),\n",
    "                                    nn.Conv2d(256, 256, kernel_size=(3,3), padding=(1,1)),\n",
    "                                    nn.ReLU(),\n",
    "                                    nn.BatchNorm2d(256))\n",
    "    \n",
    "    self.maxpool6 = nn.Conv2d(256, 256, kernel_size=(2,2), stride=2, padding=(0,0))\n",
    "\n",
    "    self.convBlock7 = nn.Sequential(nn.Conv2d(256, 512, kernel_size=(3,3), padding=(1,1)), \n",
    "                                    nn.ReLU(),\n",
    "                                    nn.BatchNorm2d(512),\n",
    "                                    nn.Conv2d(512, 512, kernel_size=(3,3), padding=(1,1)),\n",
    "                                    nn.ReLU(),\n",
    "                                    nn.BatchNorm2d(512))\n",
    "    \n",
    "    self.maxpool8 = nn.Conv2d(512, 512, kernel_size=(2,2), stride=2, padding=(0,0))\n",
    "\n",
    "    self.convBlock9 = nn.Sequential(nn.Conv2d(512, 1024, kernel_size=(3,3), padding=(1,1)), \n",
    "                                    nn.ReLU(),\n",
    "                                    nn.BatchNorm2d(1024),\n",
    "                                    nn.Conv2d(1024, 1024, kernel_size=(3,3), padding=(1,1)),\n",
    "                                    nn.ReLU(),\n",
    "                                    nn.BatchNorm2d(1024))\n",
    "    \n",
    "\n",
    "    self.upConv10 = nn.ConvTranspose2d(1024, 512, kernel_size=(2,2), stride=2, padding=(0,0))\n",
    "\n",
    "    self.convBlock11 = nn.Sequential(nn.Conv2d(1024,512, kernel_size=(3,3), padding=(1,1)), \n",
    "                                    nn.ReLU(),\n",
    "                                    nn.BatchNorm2d(512),\n",
    "                                    nn.Conv2d(512, 512, kernel_size=(3,3), padding=(1,1)),\n",
    "                                    nn.ReLU(),\n",
    "                                    nn.BatchNorm2d(512))\n",
    "    \n",
    "    self.upConv12 = nn.ConvTranspose2d(512, 256, kernel_size=(2,2), stride=2, padding=(0,0))\n",
    "\n",
    "    self.convBlock13 = nn.Sequential(nn.Conv2d(512,256, kernel_size=(3,3), padding=(1,1)),\n",
    "                                     nn.ReLU(),\n",
    "                                     nn.BatchNorm2d(256),\n",
    "                                     nn.Conv2d(256, 256, kernel_size=(3,3), padding=(1,1)),\n",
    "                                     nn.ReLU(),\n",
    "                                     nn.BatchNorm2d(256))\n",
    "    \n",
    "    self.upConv14 = nn.ConvTranspose2d(256, 128, kernel_size=(2,2), stride=2, padding=(0,0))\n",
    "\n",
    "    self.convBlock15 = nn.Sequential(nn.Conv2d(256,128, kernel_size=(3,3), padding=(1,1)), \n",
    "                                     nn.ReLU(),\n",
    "                                     nn.BatchNorm2d(128),\n",
    "                                     nn.Conv2d(128, 128, kernel_size=(3,3), padding=(1,1)),\n",
    "                                     nn.ReLU(),\n",
    "                                     nn.BatchNorm2d(128))\n",
    "    \n",
    "    self.upConv16 = nn.ConvTranspose2d(128, 64, kernel_size=(2,2), stride=2, padding=(0,0))\n",
    "\n",
    "    self.convBlock17 = nn.Sequential(nn.Conv2d(128,64, kernel_size=(3,3), padding=(1,1)), \n",
    "                                     nn.ReLU(),\n",
    "                                     nn.Conv2d(64, 64, kernel_size=(3,3), padding=(1,1)),\n",
    "                                     nn.ReLU(),\n",
    "                                     nn.Conv2d(64, 2, kernel_size=(1,1), padding=(0,0)))\n",
    "    \n",
    "\n",
    " \n",
    "  def forward(self, input):\n",
    "    conv1_out = self.convBlock1(input)\n",
    "    max2_out = self.maxpool2(conv1_out)\n",
    "\n",
    "    conv3_out = self.convBlock3(max2_out)\n",
    "    max4_out = self.maxpool4(conv3_out)\n",
    "\n",
    "    conv5_out = self.convBlock5(max4_out)\n",
    "    max6_out = self.maxpool6(conv5_out)\n",
    "\n",
    "    conv7_out = self.convBlock7(max6_out)\n",
    "    max8_out = self.maxpool8(conv7_out)\n",
    "\n",
    "    conv9_out = self.convBlock9(max8_out)\n",
    "    up10_out = self.upConv10(conv9_out)\n",
    "\n",
    "    skip_connection_11 = torch.cat((conv7_out, up10_out), dim=1)\n",
    "    conv11_out = self.convBlock11(skip_connection_11)\n",
    "    up12_out = self.upConv12(conv11_out)\n",
    "\n",
    "    skip_connection_13 = torch.cat((conv5_out, up12_out), dim=1)\n",
    "    conv13_out = self.convBlock13(skip_connection_13)\n",
    "    up14_out = self.upConv14(conv13_out)\n",
    "\n",
    "    skip_connection_15 = torch.cat((conv3_out, up14_out), dim=1)\n",
    "    conv15_out = self.convBlock15(skip_connection_15)\n",
    "    up16_out = self.upConv16(conv15_out)\n",
    "\n",
    "    skip_connection_17 = torch.cat((conv1_out, up16_out), dim=1)\n",
    "    conv17_out = self.convBlock17(skip_connection_17)\n",
    "    \n",
    "    return conv17_out\n"
   ]
  },
  {
   "cell_type": "code",
   "execution_count": 6,
   "metadata": {
    "colab": {
     "base_uri": "https://localhost:8080/",
     "height": 68
    },
    "colab_type": "code",
    "id": "NAjagHCdGNAh",
    "outputId": "9be27c27-bf22-467b-b115-c0d5df92a95f"
   },
   "outputs": [
    {
     "name": "stderr",
     "output_type": "stream",
     "text": [
      "\r",
      "0it [00:00, ?it/s]"
     ]
    },
    {
     "name": "stdout",
     "output_type": "stream",
     "text": [
      "Downloading http://liftothers.org/cancer_data.tar.gz to /tmp/cancer/cancer_data.tar.gz\n"
     ]
    },
    {
     "name": "stderr",
     "output_type": "stream",
     "text": [
      "100%|█████████▉| 2750169088/2750494655 [15:22<00:00, 2395987.79it/s]"
     ]
    },
    {
     "name": "stdout",
     "output_type": "stream",
     "text": [
      "Extracting /tmp/cancer/cancer_data.tar.gz\n"
     ]
    },
    {
     "name": "stderr",
     "output_type": "stream",
     "text": [
      "\r",
      "2750496768it [15:32, 2395987.79it/s]                                "
     ]
    },
    {
     "name": "stdout",
     "output_type": "stream",
     "text": [
      "Untarring /tmp/cancer/cancer_data.tar\n"
     ]
    }
   ],
   "source": [
    "# Create your datasets and neural network as you have before\n",
    "# Build Datasets and DataLoaders\n",
    "train_dataset = CancerDataset(root = '/tmp/cancer', download=True, train=True, size=256)\n",
    "test_dataset = CancerDataset(root = '/tmp/cancer', download=True, train=False, size=256)\n",
    "\n",
    "train_loader = DataLoader(train_dataset, batch_size=8, num_workers = 2, pin_memory=True, shuffle=True) #num_workers = 2,\n",
    "test_loader = DataLoader(test_dataset, batch_size=8, num_workers = 2, pin_memory=True, shuffle=True)\n"
   ]
  },
  {
   "cell_type": "code",
   "execution_count": 49,
   "metadata": {
    "colab": {
     "base_uri": "https://localhost:8080/",
     "height": 34
    },
    "colab_type": "code",
    "id": "RkieTbwlYWPS",
    "outputId": "1065bbd8-a075-4db9-fe6b-0dca85f6a90a"
   },
   "outputs": [
    {
     "name": "stderr",
     "output_type": "stream",
     "text": [
      "Epoch:8, Loss:0.0645, Accuracy:0.976, Memory:4.19: : 1344it [26:25,  2.00it/s]\n"
     ]
    }
   ],
   "source": [
    "# This is what was talked about in the video for memory management\n",
    "\n",
    "def scope():\n",
    "  try:\n",
    "    #your code for calling dataset and dataloader\n",
    "    \n",
    "    #Do this once outside to save memory.\n",
    "    \n",
    "    # # Build Datasets and DataLoaders\n",
    "    # train_dataset = CancerDataset(root = '/tmp/cancer', download=True, train=True)\n",
    "    # test_dataset = CancerDataset(root = '/tmp/cancer', download=True, train=False)\n",
    "\n",
    "    # train_loader = DataLoader(train_dataset, batch_size=8, pin_memory=True, shuffle=True) #num_workers = 2,\n",
    "    # test_loader = DataLoader(test_dataset, batch_size=8, pin_memory=True, shuffle=True)\n",
    "\n",
    "    # Initialize the model\n",
    "    cancer_detection_model = CancerDetection()\n",
    "    cancer_detection_model.cuda()\n",
    "    \n",
    "    # Initialize the loss function and optimizer\n",
    "    objective = nn.CrossEntropyLoss()\n",
    "    optimizer = optim.Adam(cancer_detection_model.parameters(), lr=1e-4)\n",
    "    \n",
    "    \n",
    "    gc.collect()\n",
    "       \n",
    "    #for epochs:\n",
    "    # Call your model, figure out loss and accuracy\n",
    "    losses = []\n",
    "    accuracies = []\n",
    "    validations = []\n",
    "    val_accuracy = []\n",
    "    loop = tqdm(total=len(train_loader), position = 0)\n",
    "    for epoch in range(8):\n",
    "      for batch, (x, y_truth) in enumerate(train_loader):\n",
    "        # y_truth = y_truth.long()\n",
    "        x, y_truth  = x.cuda(async=True), y_truth.cuda(async=True)\n",
    "\n",
    "        optimizer.zero_grad()\n",
    "\n",
    "        y_hat = cancer_detection_model(x)\n",
    "\n",
    "        train_loss = objective(y_hat, y_truth.long())\n",
    "        train_loss.backward() # Computes backpropagation gradients\n",
    "        losses.append(train_loss.item())\n",
    "        \n",
    "        # Compute the accuracy for each batch by finding which training examples\n",
    "        # it got right and taking the mean percentage of correct classifications\n",
    "        accuracy = (torch.softmax(y_hat, 1).argmax(1) == y_truth.long()).float().mean()\n",
    "        # accuracy = compute_accuracy(y_hat, y_truth)\n",
    "        accuracies.append(accuracy.item())\n",
    "\n",
    "        mem = torch.cuda.memory_allocated(0) / 1e9\n",
    "        loop.set_description('Epoch:{}, Loss:{:.4f}, Accuracy:{:.3f}, Memory:{:.2f}'.format(epoch + 1, losses[-1], accuracy, mem))\n",
    "        loop.update(1)\n",
    "\n",
    "        optimizer.step()\n",
    "\n",
    "        # Validation Loop\n",
    "        if batch % 14 == 0:\n",
    "          test_loss = []\n",
    "          test_accuracy = []\n",
    "          for x_test, y_truth_test in test_loader:\n",
    "            x_test, y_truth_test  = x_test.cuda(async=True), y_truth_test.cuda(async=True)\n",
    "            y_hat_test = cancer_detection_model(x_test)\n",
    "            test_loss.append(objective(y_hat_test, y_truth_test.long()).item())\n",
    "            # test_accuracy.append(compute_accuracy(y_hat_test, y_truth_test))\n",
    "            test_accuracy.append((torch.softmax(y_hat_test, 1).argmax(1) == y_truth_test.long()).float().mean().item())\n",
    "\n",
    "          val_accuracy.append((len(losses), np.mean(test_accuracy)))\n",
    "          validations.append((len(losses), np.mean(test_loss)))\n",
    "\n",
    "    loop.close()\n",
    "  \n",
    "    return cancer_detection_model, losses, accuracies, validations, val_accuracy\n",
    "\n",
    "  except:\n",
    "    __ITB__()\n",
    "\n",
    "\n",
    "model, losses, accuracies, validation_losses, validation_accuracies = scope()\n"
   ]
  },
  {
   "cell_type": "markdown",
   "metadata": {
    "colab_type": "text",
    "id": "CZ062Jv1jIIu"
   },
   "source": [
    "\n",
    "___\n",
    "\n",
    "### Part 2\n",
    "\n",
    "Plot performance over time\n",
    "\n",
    "Please generate a plot that shows loss on the training set as a function of training time. Make sure your axes are labeled!\n",
    "\n",
    "**TODO:**\n",
    "\n",
    "**DONE:**\n",
    "* Plot training loss as function of training time\n"
   ]
  },
  {
   "cell_type": "code",
   "execution_count": 51,
   "metadata": {
    "colab": {
     "base_uri": "https://localhost:8080/",
     "height": 581
    },
    "colab_type": "code",
    "id": "mTg1jyIsYVZN",
    "outputId": "6902985f-ff48-402f-ed4d-e2d9bb6f9d65"
   },
   "outputs": [
    {
     "data": {
      "image/png": "[encoded data removed]",
      "text/plain": [
       "<Figure size 432x288 with 1 Axes>"
      ]
     },
     "metadata": {
      "tags": []
     },
     "output_type": "display_data"
    },
    {
     "data": {
      "image/png": "[encoded data removed]",
      "text/plain": [
       "<Figure size 432x288 with 1 Axes>"
      ]
     },
     "metadata": {
      "tags": []
     },
     "output_type": "display_data"
    }
   ],
   "source": [
    "# Your plotting code here\n",
    "plt.style.use('ggplot')\n",
    "# Plot the Loss\n",
    "plt.plot(losses, label='Training Loss')\n",
    "plt.plot([x[0] for x in validation_losses], [x[1] for x in validation_losses], label='Validation Loss')\n",
    "plt.xlabel(\"Epochs\")\n",
    "plt.ylabel(\"Cross-Entropy Loss\")\n",
    "plt.xticks(range(0, len(losses) + 1, 168), range(0, 9))\n",
    "plt.title(\"Cross-Entropy Loss Over Time\")\n",
    "plt.legend()\n",
    "plt.show()\n",
    "\n",
    "# Plot the Accuracy\n",
    "plt.plot(range(0, len(accuracies), 10), accuracies[::10], label=\"Training Accuracy\")\n",
    "plt.plot([x[0] for x in validation_accuracies], [x[1] for x in validation_accuracies], label='Validation Accuracy')\n",
    "plt.ylabel(\"Accuracy\")\n",
    "plt.xlabel(\"Epochs\")\n",
    "plt.xticks(range(0, len(losses) + 1, 168), range(0, 9))\n",
    "plt.legend()\n",
    "plt.title(\"Accuracy Over Time\")\n",
    "plt.show()"
   ]
  },
  {
   "cell_type": "markdown",
   "metadata": {
    "colab_type": "text",
    "id": "S4s92S2_jQOG"
   },
   "source": [
    "___\n",
    "\n",
    "### Part 3\n",
    "\n",
    "Generate a prediction on the pos_test_000072.png image\n",
    "\n",
    "Calculate the output of your trained network on the pos_test_000072.png image,\n",
    "then make a hard decision (cancerous/not-cancerous) for each pixel.\n",
    "The resulting image should be black-and-white, where white pixels represent things\n",
    "you think are probably cancerous.\n",
    "\n",
    "**TODO:**\n",
    "\n",
    "**DONE:**\n",
    "\n",
    "**NOTE:**\n",
    "\n",
    "Guessing that the pixel is not cancerous every single time will give you an accuracy of ~ 85%.\n",
    "Your trained network should be able to do better than that (but you will not be graded on accuracy).\n",
    "This is the result I got after 1 hour or training.\n",
    "\n",
    "![](http://liftothers.org/dokuwiki/lib/exe/fetch.php?w=400&tok=d23e0b&media=cs501r_f2016:training_accuracy.png)\n",
    "![](http://liftothers.org/dokuwiki/lib/exe/fetch.php?w=400&tok=bb8e3c&media=cs501r_f2016:training_loss.png)"
   ]
  },
  {
   "cell_type": "code",
   "execution_count": 54,
   "metadata": {
    "colab": {
     "base_uri": "https://localhost:8080/",
     "height": 293
    },
    "colab_type": "code",
    "id": "XXfG3wClh8an",
    "outputId": "06767c87-78c6-41df-a327-7351b6d994a0",
    "pycharm": {
     "is_executing": false
    }
   },
   "outputs": [
    {
     "data": {
      "image/png": "[encoded data removed]",
      "text/plain": [
       "<Figure size 640x480 with 2 Axes>"
      ]
     },
     "metadata": {
      "tags": []
     },
     "output_type": "display_data"
    }
   ],
   "source": [
    "# Code for testing prediction on an image\n",
    "plt.style.use('classic')\n",
    "test_72 = test_dataset[172][0].unsqueeze(0).cuda()\n",
    "truth_72 = test_dataset[172][1]\n",
    "\n",
    "prediction = model(test_72).squeeze(0)\n",
    "cancer_prediction = prediction[1] > prediction[0]\n",
    "\n",
    "plt.subplot(1,2,1)\n",
    "plt.title(\"Model Prediction\")\n",
    "plt.imshow(cancer_prediction.cpu().numpy(), cmap='gray')\n",
    "plt.axis('off')\n",
    "\n",
    "plt.subplot(1,2,2)\n",
    "plt.title(\"Ground Truth\")\n",
    "plt.imshow(truth_72.cpu().numpy(), cmap = 'gray')\n",
    "plt.axis('off')\n",
    "\n",
    "plt.show()\n"
   ]
  }
 ],
 "metadata": {
  "accelerator": "GPU",
  "colab": {
   "collapsed_sections": [],
   "name": "DL_Lab4.ipynb",
   "provenance": []
  },
  "kernelspec": {
   "display_name": "Python 3",
   "language": "python",
   "name": "python3"
  },
  "language_info": {
   "codemirror_mode": {
    "name": "ipython",
    "version": 3
   },
   "file_extension": ".py",
   "mimetype": "text/x-python",
   "name": "python",
   "nbconvert_exporter": "python",
   "pygments_lexer": "ipython3",
   "version": "3.7.3"
  },
  "pycharm": {
   "stem_cell": {
    "cell_type": "raw",
    "metadata": {
     "collapsed": false
    },
    "source": []
   }
  }
 },
 "nbformat": 4,
 "nbformat_minor": 1
}
